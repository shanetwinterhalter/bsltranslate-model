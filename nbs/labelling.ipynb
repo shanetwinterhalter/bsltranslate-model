{
 "cells": [
  {
   "cell_type": "markdown",
   "metadata": {},
   "source": [
    "# Imports"
   ]
  },
  {
   "cell_type": "code",
   "execution_count": 91,
   "metadata": {},
   "outputs": [],
   "source": [
    "# Allow importing items in src folder\n",
    "import sys\n",
    "\n",
    "SCRIPT_DIR = \"/home/shane/Projects/sign_data\"\n",
    "sys.path.append(SCRIPT_DIR)"
   ]
  },
  {
   "cell_type": "code",
   "execution_count": 92,
   "metadata": {},
   "outputs": [],
   "source": [
    "from src.files import load_pickle, read_from_file\n",
    "from src.models import Cnn_3d, load_model\n",
    "from src.inference import load_video, predict_signs\n",
    "from src.utilities import save_to_csv"
   ]
  },
  {
   "cell_type": "markdown",
   "metadata": {},
   "source": [
    "# Variables"
   ]
  },
  {
   "cell_type": "code",
   "execution_count": 93,
   "metadata": {},
   "outputs": [],
   "source": [
    "model_path = '../trained_models/72_stream_cnn_resnet18_3d_20220508.pt'\n",
    "normalization_stats = '../trained_models/normalization_stats_mhwl.pkl'\n",
    "vocab_file = '../vocab.csv'\n",
    "video_fname = '../videos/Alphabet50.mp4'\n",
    "label_folder = '../video_labels/'"
   ]
  },
  {
   "cell_type": "code",
   "execution_count": 94,
   "metadata": {},
   "outputs": [],
   "source": [
    "model_name = Cnn_3d"
   ]
  },
  {
   "cell_type": "markdown",
   "metadata": {},
   "source": [
    "# Code"
   ]
  },
  {
   "cell_type": "code",
   "execution_count": 95,
   "metadata": {},
   "outputs": [],
   "source": [
    "def group_predictions(data):\n",
    "    grouped_data = []\n",
    "    start_time = data[0][0]\n",
    "    cur_sign = data[0][1]\n",
    "    sign_length = 0\n",
    "    for idx, frame in enumerate(data):\n",
    "        sign_length += 1\n",
    "        if frame[1] != cur_sign:\n",
    "            end_time = data[idx - 1][0]\n",
    "            if cur_sign != 'NaS' and sign_length > 12:\n",
    "                grouped_data.append([round(start_time/1000, 2), round(end_time/1000, 2), cur_sign])\n",
    "            start_time = frame[0]\n",
    "            cur_sign = frame[1]\n",
    "            sign_length = 0\n",
    "    return grouped_data"
   ]
  },
  {
   "cell_type": "markdown",
   "metadata": {},
   "source": [
    "# Get Video Predictions"
   ]
  },
  {
   "cell_type": "code",
   "execution_count": 96,
   "metadata": {},
   "outputs": [],
   "source": [
    "# Load the normalization stats\n",
    "normalization_stats = load_pickle(normalization_stats)\n",
    "\n",
    "# Load vocab\n",
    "vocab = read_from_file(vocab_file)\n",
    "\n",
    "# Load the model\n",
    "model = load_model(model_name, len(vocab), model_path)\n",
    "\n",
    "# Open the video\n",
    "video = load_video(video_fname)\n",
    "\n",
    "# Loop over the frames of the video & process\n",
    "predictions = predict_signs(video, model, vocab, normalization_stats,\n",
    "                            frames_per_sign=30, number_of_coords=126,\n",
    "                            display_pred=False)"
   ]
  },
  {
   "cell_type": "code",
   "execution_count": 97,
   "metadata": {},
   "outputs": [],
   "source": [
    "grouped_preds = group_predictions(predictions)"
   ]
  },
  {
   "cell_type": "code",
   "execution_count": 98,
   "metadata": {},
   "outputs": [
    {
     "data": {
      "text/plain": [
       "'../video_labels/Alphabet50.csv'"
      ]
     },
     "execution_count": 98,
     "metadata": {},
     "output_type": "execute_result"
    }
   ],
   "source": [
    "label_file_name = label_folder + video_fname.split(\"/\")[-1].split(\".\")[0] + \".csv\"\n",
    "label_file_name"
   ]
  },
  {
   "cell_type": "code",
   "execution_count": 99,
   "metadata": {},
   "outputs": [],
   "source": [
    "save_to_csv(grouped_preds, label_file_name, headers=['start_time', 'end_time', 'word'])"
   ]
  },
  {
   "cell_type": "markdown",
   "metadata": {},
   "source": [
    "Make sure to manually check the output here - this isn't very accurate.\n",
    "\n",
    "Run `ffplay ${video_path}` to do that"
   ]
  }
 ],
 "metadata": {
  "interpreter": {
   "hash": "e7dba0f81e91db755a2ab2022a54282d1b9a007e4e4960b28bbfc84d5838570e"
  },
  "kernelspec": {
   "display_name": "Python 3.8.10 ('venv': venv)",
   "language": "python",
   "name": "python3"
  },
  "language_info": {
   "codemirror_mode": {
    "name": "ipython",
    "version": 3
   },
   "file_extension": ".py",
   "mimetype": "text/x-python",
   "name": "python",
   "nbconvert_exporter": "python",
   "pygments_lexer": "ipython3",
   "version": "3.8.10"
  },
  "orig_nbformat": 4
 },
 "nbformat": 4,
 "nbformat_minor": 2
}
