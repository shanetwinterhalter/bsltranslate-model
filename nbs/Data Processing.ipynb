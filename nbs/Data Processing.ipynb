{
 "cells": [
  {
   "cell_type": "markdown",
   "metadata": {},
   "source": [
    "# Imports/Installs"
   ]
  },
  {
   "cell_type": "code",
   "execution_count": 1,
   "metadata": {},
   "outputs": [],
   "source": [
    "# Allow importing items in src folder\n",
    "import sys\n",
    "\n",
    "SCRIPT_DIR = \"/home/shane/Projects/bsltranslate-model\"\n",
    "sys.path.append(SCRIPT_DIR)"
   ]
  },
  {
   "cell_type": "code",
   "execution_count": 2,
   "metadata": {},
   "outputs": [],
   "source": [
    "from os import listdir"
   ]
  },
  {
   "cell_type": "code",
   "execution_count": 3,
   "metadata": {},
   "outputs": [],
   "source": [
    "from src.files import check_file_duplicates\n",
    "from src.mediapipe import process_file_list"
   ]
  },
  {
   "cell_type": "markdown",
   "metadata": {},
   "source": [
    "# Variables"
   ]
  },
  {
   "cell_type": "code",
   "execution_count": 6,
   "metadata": {},
   "outputs": [],
   "source": [
    "dataset_dir = \"../../bsltranslate-test-dataset/\"\n",
    "video_dir = dataset_dir + \"videos\"\n",
    "video_label_dir = dataset_dir + \"video_labels\"\n",
    "video_data_dir = dataset_dir + \"video_data\"\n",
    "vocab_file = dataset_dir + \"vocab.csv\"\n",
    "mediapipe_confidence = 0.5"
   ]
  },
  {
   "cell_type": "markdown",
   "metadata": {},
   "source": [
    "# Mediapipe Processing"
   ]
  },
  {
   "cell_type": "code",
   "execution_count": 7,
   "metadata": {},
   "outputs": [],
   "source": [
    "file_list = listdir(video_dir)\n",
    "check_file_duplicates(video_dir, file_list)"
   ]
  },
  {
   "cell_type": "code",
   "execution_count": 8,
   "metadata": {},
   "outputs": [
    {
     "name": "stdout",
     "output_type": "stream",
     "text": [
      "Skipping ../../bsltranslate-test-dataset/videos/Alphabet47.mp4 as data already exists. Set overwrite_data to True to overwrite\n",
      "Skipping ../../bsltranslate-test-dataset/videos/Alphabet43.mp4 as data already exists. Set overwrite_data to True to overwrite\n",
      "Skipping ../../bsltranslate-test-dataset/videos/Alphabet29.mp4 as data already exists. Set overwrite_data to True to overwrite\n",
      "Skipping ../../bsltranslate-test-dataset/videos/Alphabet31.mp4 as data already exists. Set overwrite_data to True to overwrite\n",
      "Skipping ../../bsltranslate-test-dataset/videos/Alphabet04.mp4 as data already exists. Set overwrite_data to True to overwrite\n",
      "Skipping ../../bsltranslate-test-dataset/videos/Alphabet18.mp4 as data already exists. Set overwrite_data to True to overwrite\n",
      "Skipping ../../bsltranslate-test-dataset/videos/Alphabet35.mp4 as data already exists. Set overwrite_data to True to overwrite\n",
      "Skipping ../../bsltranslate-test-dataset/videos/Alphabet36.mp4 as data already exists. Set overwrite_data to True to overwrite\n",
      "Skipping ../../bsltranslate-test-dataset/videos/Alphabet38.mp4 as data already exists. Set overwrite_data to True to overwrite\n",
      "Skipping ../../bsltranslate-test-dataset/videos/Alphabet05.mp4 as data already exists. Set overwrite_data to True to overwrite\n",
      "Skipping ../../bsltranslate-test-dataset/videos/Alphabet39.mp4 as data already exists. Set overwrite_data to True to overwrite\n",
      "Skipping ../../bsltranslate-test-dataset/videos/Alphabet19.mp4 as data already exists. Set overwrite_data to True to overwrite\n",
      "Skipping ../../bsltranslate-test-dataset/videos/Alphabet40.mp4 as data already exists. Set overwrite_data to True to overwrite\n",
      "Skipping ../../bsltranslate-test-dataset/videos/Alphabet15.mp4 as data already exists. Set overwrite_data to True to overwrite\n",
      "Skipping ../../bsltranslate-test-dataset/videos/Alphabet20.mp4 as data already exists. Set overwrite_data to True to overwrite\n",
      "Skipping ../../bsltranslate-test-dataset/videos/Alphabet25.mp4 as data already exists. Set overwrite_data to True to overwrite\n",
      "Skipping ../../bsltranslate-test-dataset/videos/Alphabet50.mp4 as data already exists. Set overwrite_data to True to overwrite\n",
      "Skipping ../../bsltranslate-test-dataset/videos/Alphabet17.mp4 as data already exists. Set overwrite_data to True to overwrite\n",
      "Skipping ../../bsltranslate-test-dataset/videos/Alphabet10.mp4 as data already exists. Set overwrite_data to True to overwrite\n",
      "Skipping ../../bsltranslate-test-dataset/videos/Alphabet08.mp4 as data already exists. Set overwrite_data to True to overwrite\n",
      "Skipping ../../bsltranslate-test-dataset/videos/Alphabet14.mp4 as data already exists. Set overwrite_data to True to overwrite\n",
      "Skipping ../../bsltranslate-test-dataset/videos/Alphabet44.mp4 as data already exists. Set overwrite_data to True to overwrite\n",
      "Skipping ../../bsltranslate-test-dataset/videos/Alphabet49.mp4 as data already exists. Set overwrite_data to True to overwrite\n",
      "Skipping ../../bsltranslate-test-dataset/videos/Alphabet37.mp4 as data already exists. Set overwrite_data to True to overwrite\n",
      "Skipping ../../bsltranslate-test-dataset/videos/Alphabet34.mp4 as data already exists. Set overwrite_data to True to overwrite\n",
      "Skipping ../../bsltranslate-test-dataset/videos/Alphabet26.mp4 as data already exists. Set overwrite_data to True to overwrite\n",
      "Skipping ../../bsltranslate-test-dataset/videos/Alphabet11.mp4 as data already exists. Set overwrite_data to True to overwrite\n",
      "Skipping ../../bsltranslate-test-dataset/videos/Alphabet48.mp4 as data already exists. Set overwrite_data to True to overwrite\n",
      "Skipping ../../bsltranslate-test-dataset/videos/Alphabet16.mp4 as data already exists. Set overwrite_data to True to overwrite\n",
      "Skipping ../../bsltranslate-test-dataset/videos/Alphabet33.mp4 as data already exists. Set overwrite_data to True to overwrite\n",
      "Skipping ../../bsltranslate-test-dataset/videos/Alphabet12.mp4 as data already exists. Set overwrite_data to True to overwrite\n",
      "Skipping ../../bsltranslate-test-dataset/videos/Alphabet03.mp4 as data already exists. Set overwrite_data to True to overwrite\n",
      "Skipping ../../bsltranslate-test-dataset/videos/Alphabet30.mp4 as data already exists. Set overwrite_data to True to overwrite\n",
      "Skipping ../../bsltranslate-test-dataset/videos/Alphabet09.mp4 as data already exists. Set overwrite_data to True to overwrite\n",
      "Skipping ../../bsltranslate-test-dataset/videos/Alphabet06.webm as data already exists. Set overwrite_data to True to overwrite\n",
      "Skipping ../../bsltranslate-test-dataset/videos/Alphabet13.mp4 as data already exists. Set overwrite_data to True to overwrite\n",
      "Skipping ../../bsltranslate-test-dataset/videos/Alphabet32.mp4 as data already exists. Set overwrite_data to True to overwrite\n",
      "Skipping ../../bsltranslate-test-dataset/videos/Alphabet41.mp4 as data already exists. Set overwrite_data to True to overwrite\n",
      "Skipping ../../bsltranslate-test-dataset/videos/Alphabet27.mp4 as data already exists. Set overwrite_data to True to overwrite\n",
      "Skipping ../../bsltranslate-test-dataset/videos/Alphabet01.mp4 as data already exists. Set overwrite_data to True to overwrite\n",
      "Skipping ../../bsltranslate-test-dataset/videos/Alphabet21.mp4 as data already exists. Set overwrite_data to True to overwrite\n",
      "Skipping ../../bsltranslate-test-dataset/videos/Alphabet46.mp4 as data already exists. Set overwrite_data to True to overwrite\n",
      "Skipping ../../bsltranslate-test-dataset/videos/Alphabet23.mp4 as data already exists. Set overwrite_data to True to overwrite\n",
      "Skipping ../../bsltranslate-test-dataset/videos/Alphabet22.mp4 as data already exists. Set overwrite_data to True to overwrite\n",
      "Skipping ../../bsltranslate-test-dataset/videos/Alphabet07.webm as data already exists. Set overwrite_data to True to overwrite\n",
      "Skipping ../../bsltranslate-test-dataset/videos/Alphabet02.mp4 as data already exists. Set overwrite_data to True to overwrite\n",
      "Skipping ../../bsltranslate-test-dataset/videos/Alphabet24.mp4 as data already exists. Set overwrite_data to True to overwrite\n",
      "Skipping ../../bsltranslate-test-dataset/videos/Alphabet28.mp4 as data already exists. Set overwrite_data to True to overwrite\n"
     ]
    }
   ],
   "source": [
    "process_file_list(file_list, video_dir, video_label_dir, video_data_dir, confidence=0.5, overwrite_data=False)"
   ]
  },
  {
   "cell_type": "markdown",
   "metadata": {},
   "source": [
    "`frame_output.multi_handedness` gives details on the number of hands detected and the probabilities\n",
    "`frame_output.multi_hand_world_landmarks` or `frame_output.multi_hand_landmarks` provides the positions of each point on each hand"
   ]
  }
 ],
 "metadata": {
  "kernelspec": {
   "display_name": "Python 3.8.10 ('venv': venv)",
   "language": "python",
   "name": "python3"
  },
  "language_info": {
   "codemirror_mode": {
    "name": "ipython",
    "version": 3
   },
   "file_extension": ".py",
   "mimetype": "text/x-python",
   "name": "python",
   "nbconvert_exporter": "python",
   "pygments_lexer": "ipython3",
   "version": "3.8.10"
  },
  "vscode": {
   "interpreter": {
    "hash": "117bb0380913a1c7fcdca713b207ff8c7ffbcc3d6280e8a3cc818cb864e67463"
   }
  }
 },
 "nbformat": 4,
 "nbformat_minor": 4
}
